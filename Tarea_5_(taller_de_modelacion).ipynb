{
  "nbformat": 4,
  "nbformat_minor": 0,
  "metadata": {
    "colab": {
      "provenance": [],
      "collapsed_sections": [
        "rwNgufdKzIkx",
        "crwhOKeOzDqg"
      ]
    },
    "kernelspec": {
      "name": "python3",
      "display_name": "Python 3"
    },
    "language_info": {
      "name": "python"
    }
  },
  "cells": [
    {
      "cell_type": "markdown",
      "source": [
        "#Funciones del punto 1 y 2"
      ],
      "metadata": {
        "id": "rwNgufdKzIkx"
      }
    },
    {
      "cell_type": "code",
      "execution_count": 1,
      "metadata": {
        "colab": {
          "base_uri": "https://localhost:8080/"
        },
        "id": "TIDWwR2nw7Ck",
        "outputId": "5df8d588-1827-4fd6-cf59-aedabb39b8ef"
      },
      "outputs": [
        {
          "output_type": "stream",
          "name": "stdout",
          "text": [
            "Ingrese el tamaño de la matriz (n): 2\n",
            "Ingrese los elementos de la matriz fila por fila (separados por espacios):\n",
            "1 2\n",
            "1 2\n",
            "El determinante de la matriz es: 0.0\n"
          ]
        }
      ],
      "source": [
        "\n",
        "\n",
        "def obtener_submatriz(matriz, fila_excluida, col_excluida):\n",
        "    \"\"\"Retorna una submatriz excluyendo la fila y columna dadas.\"\"\"\n",
        "    return [\n",
        "        [fila for j, fila in enumerate(fila_actual) if j != col_excluida]\n",
        "        for i, fila_actual in enumerate(matriz) if i != fila_excluida\n",
        "    ]\n",
        "\n",
        "def determinante(matriz):\n",
        "    \"\"\"Calcula el determinante de una matriz de forma recursiva.\"\"\"\n",
        "    n = len(matriz)\n",
        "\n",
        "    # Caso base: matriz 1x1\n",
        "    if n == 1:\n",
        "        return matriz[0][0]\n",
        "\n",
        "    # Caso base: matriz 2x2\n",
        "    if n == 2:\n",
        "        return matriz[0][0] * matriz[1][1] - matriz[0][1] * matriz[1][0]\n",
        "\n",
        "    det = 0\n",
        "    # Expansión por cofactores a lo largo de la primera fila\n",
        "    for j in range(n):\n",
        "        signo = (-1) ** j  # Alternancia de signos: (+1, -1, +1, ...)\n",
        "        submatriz = obtener_submatriz(matriz, 0, j)\n",
        "        det += signo * matriz[0][j] * determinante(submatriz)\n",
        "\n",
        "    return det\n",
        "\n",
        "# Solicitar tamaño de la matriz al usuario\n",
        "n = int(input(\"Ingrese el tamaño de la matriz (n): \"))\n",
        "\n",
        "# Solicitar elementos de la matriz\n",
        "print(\"Ingrese los elementos de la matriz fila por fila (separados por espacios):\")\n",
        "matriz = []\n",
        "for _ in range(n):\n",
        "    fila = list(map(float, input().split()))\n",
        "    matriz.append(fila)\n",
        "\n",
        "# Calcular y mostrar el determinante\n",
        "resultado = determinante(matriz)\n",
        "print(f\"El determinante de la matriz es: {resultado}\")"
      ]
    },
    {
      "cell_type": "code",
      "source": [
        "import numpy as np\n",
        "\n",
        "def diagonalizar_matriz(matriz):\n",
        "    \"\"\"\n",
        "    Diagonaliza una matriz encontrando sus autovalores y autovectores.\n",
        "\n",
        "    Args:\n",
        "        matriz: Matriz cuadrada a diagonalizar\n",
        "\n",
        "    Returns:\n",
        "        P: Matriz de autovectores (columnas)\n",
        "        D: Matriz diagonal con autovalores\n",
        "        P_inv: Inversa de P\n",
        "    \"\"\"\n",
        "    # Calcular autovalores y autovectores\n",
        "    autovalores, autovectores = np.linalg.eig(matriz)\n",
        "\n",
        "    # Crear matriz diagonal con autovalores\n",
        "    D = np.diag(autovalores)\n",
        "\n",
        "    # La matriz de autovectores es P\n",
        "    P = autovectores\n",
        "\n",
        "    # Calcular la inversa de P\n",
        "    P_inv = np.linalg.inv(P)\n",
        "\n",
        "    return P, D, P_inv\n",
        "\n",
        "# Solicitar tamaño de la matriz al usuario\n",
        "n = int(input(\"Ingrese el tamaño de la matriz (n): \"))\n",
        "\n",
        "# Solicitar elementos de la matriz\n",
        "print(\"Ingrese los elementos de la matriz fila por fila (separados por espacios):\")\n",
        "matriz = []\n",
        "for i in range(n):\n",
        "    fila = list(map(float, input(f\"Fila {i+1}: \").split()))\n",
        "    matriz.append(fila)\n",
        "\n",
        "A = np.array(matriz)\n",
        "\n",
        "# Diagonalizar la matriz\n",
        "P, D, P_inv = diagonalizar_matriz(A)\n",
        "\n",
        "print(\"\\nMatriz original A:\")\n",
        "print(A)\n",
        "\n",
        "print(\"\\nMatriz de autovectores P:\")\n",
        "print(P)\n",
        "\n",
        "print(\"\\nMatriz diagonal D (autovalores en la diagonal):\")\n",
        "print(D)\n",
        "\n",
        "print(\"\\nInversa de P (P⁻¹):\")\n",
        "print(P_inv)\n",
        "\n",
        "# Verificar que A = P * D * P⁻¹\n",
        "A_reconstruida = P @ D @ P_inv\n",
        "print(\"\\nVerificación: A = P * D * P⁻¹\")\n",
        "print(A_reconstruida)\n",
        "\n"
      ],
      "metadata": {
        "colab": {
          "base_uri": "https://localhost:8080/"
        },
        "id": "Cf2YFQlQaGvZ",
        "outputId": "3a9df4bb-bc5d-44b5-8a74-4fb533981912"
      },
      "execution_count": 2,
      "outputs": [
        {
          "output_type": "stream",
          "name": "stdout",
          "text": [
            "Ingrese el tamaño de la matriz (n): 2\n",
            "Ingrese los elementos de la matriz fila por fila (separados por espacios):\n",
            "Fila 1: 1 2\n",
            "Fila 2: 1 2\n",
            "\n",
            "Matriz original A:\n",
            "[[1. 2.]\n",
            " [1. 2.]]\n",
            "\n",
            "Matriz de autovectores P:\n",
            "[[-0.89442719 -0.70710678]\n",
            " [ 0.4472136  -0.70710678]]\n",
            "\n",
            "Matriz diagonal D (autovalores en la diagonal):\n",
            "[[0. 0.]\n",
            " [0. 3.]]\n",
            "\n",
            "Inversa de P (P⁻¹):\n",
            "[[-0.74535599  0.74535599]\n",
            " [-0.47140452 -0.94280904]]\n",
            "\n",
            "Verificación: A = P * D * P⁻¹\n",
            "[[1. 2.]\n",
            " [1. 2.]]\n"
          ]
        }
      ]
    },
    {
      "cell_type": "markdown",
      "source": [
        "#Clase sin numpy"
      ],
      "metadata": {
        "id": "crwhOKeOzDqg"
      }
    },
    {
      "cell_type": "markdown",
      "source": [
        "Hacemos la clase con las funciones hechas modificadas para dar matrices aleatorias y sin usar numpy. Esto a manera de experimento más que nada."
      ],
      "metadata": {
        "id": "L05gQo-lqQsJ"
      }
    },
    {
      "cell_type": "code",
      "source": [
        "import random\n",
        "import copy\n",
        "\n",
        "class OperacionesMatricesNP:\n",
        "    def __init__(self, matriz=None):\n",
        "        self.matriz = matriz\n",
        "\n",
        "    # -------------------------\n",
        "    # Generación y utilidades\n",
        "    # -------------------------\n",
        "    def matriz_aleatoria_uniforme(self, n, minimo=-1, maximo=1):\n",
        "        return [[random.uniform(minimo, maximo) for _ in range(n)] for _ in range(n)]\n",
        "\n",
        "    def obtener_submatriz(self, matriz, fila_excluida, col_excluida):\n",
        "        return [\n",
        "            [elem for j, elem in enumerate(fila) if j != col_excluida]\n",
        "            for i, fila in enumerate(matriz) if i != fila_excluida\n",
        "        ]\n",
        "\n",
        "    # -------------------------\n",
        "    # Determinante recursivo\n",
        "    # -------------------------\n",
        "    def determinante(self, matriz):\n",
        "        n = len(matriz)\n",
        "        if n == 1:\n",
        "            return matriz[0][0]\n",
        "        if n == 2:\n",
        "            return matriz[0][0] * matriz[1][1] - matriz[0][1] * matriz[1][0]\n",
        "\n",
        "        det = 0\n",
        "        for j in range(n):\n",
        "            signo = (-1) ** j\n",
        "            sub = self.obtener_submatriz(matriz, 0, j)\n",
        "            det += signo * matriz[0][j] * self.determinante(sub)\n",
        "        return det\n",
        "\n",
        "    # -------------------------\n",
        "    # Operaciones elementales\n",
        "    # -------------------------\n",
        "    def transveccion(self, A, origen, destino, alfa):\n",
        "        \"\"\"Fila_destino = Fila_destino + alfa * Fila_origen\"\"\"\n",
        "        n = len(A[0])\n",
        "        A[destino] = [A[destino][i] + alfa * A[origen][i] for i in range(n)]\n",
        "        return A\n",
        "\n",
        "    def pivoteo(self, A):\n",
        "        \"\"\"\n",
        "        Lleva A a forma escalonada superior usando eliminación de Gauss\n",
        "        con pivoteo parcial (intercambio de filas).\n",
        "        \"\"\"\n",
        "        n = len(A)\n",
        "        M = copy.deepcopy(A)\n",
        "        for i in range(n):\n",
        "            # Selección de pivote (parcial)\n",
        "            max_fila = max(range(i, n), key=lambda r: abs(M[r][i]))\n",
        "            if abs(M[max_fila][i]) < 1e-12:\n",
        "                continue\n",
        "            if i != max_fila:\n",
        "                M[i], M[max_fila] = M[max_fila], M[i]\n",
        "\n",
        "            # Hacer ceros debajo del pivote\n",
        "            for j in range(i+1, n):\n",
        "                if M[j][i] != 0:\n",
        "                    alfa = -M[j][i] / M[i][i]\n",
        "                    self.transveccion(M, i, j, alfa)\n",
        "        return M\n",
        "\n",
        "    # -------------------------\n",
        "    # Resolver sistemas homogéneos Ax = 0\n",
        "    # -------------------------\n",
        "    def resolver_sistema_gauss(self, A):\n",
        "        \"\"\"\n",
        "        Resuelve Ax=0 encontrando un vector no trivial en el núcleo de A\n",
        "        usando Gauss con pivoteo.\n",
        "        \"\"\"\n",
        "        n = len(A)\n",
        "        M = [fila[:] for fila in A]\n",
        "\n",
        "        fila = 0\n",
        "        for col in range(n):\n",
        "            # Pivoteo parcial\n",
        "            max_fila = max(range(fila, n), key=lambda r: abs(M[r][col]))\n",
        "            if abs(M[max_fila][col]) < 1e-10:\n",
        "                continue\n",
        "            if fila != max_fila:\n",
        "                M[fila], M[max_fila] = M[max_fila], M[fila]\n",
        "\n",
        "            # Normalizar fila pivote\n",
        "            piv = M[fila][col]\n",
        "            for j in range(n):\n",
        "                M[fila][j] /= piv\n",
        "\n",
        "            # Eliminar en otras filas\n",
        "            for i in range(n):\n",
        "                if i != fila:\n",
        "                    factor = M[i][col]\n",
        "                    for j in range(n):\n",
        "                        M[i][j] -= factor * M[fila][j]\n",
        "\n",
        "            fila += 1\n",
        "            if fila == n:\n",
        "                break\n",
        "\n",
        "        # Buscar variable libre y darle valor 1\n",
        "        solucion = [0]*n\n",
        "        pivotes = [next((j for j,v in enumerate(f) if abs(v)>1e-10), None) for f in M]\n",
        "        piv_cols = [p for p in pivotes if p is not None]\n",
        "        libres = [c for c in range(n) if c not in piv_cols]\n",
        "        if not libres:\n",
        "            return solucion\n",
        "        libre = libres[0]\n",
        "        solucion[libre] = 1\n",
        "        # Sustituir hacia atrás\n",
        "        for i in range(n):\n",
        "            if pivotes[i] is not None:\n",
        "                j = pivotes[i]\n",
        "                suma = sum(M[i][k]*solucion[k] for k in range(j+1, n))\n",
        "                solucion[j] = -suma\n",
        "        return solucion\n",
        "\n",
        "    # -------------------------\n",
        "    # Inversa por Gauss-Jordan\n",
        "    # -------------------------\n",
        "    def inversa(self, A):\n",
        "        \"\"\"Calcula la inversa de A usando Gauss-Jordan con pivoteo.\"\"\"\n",
        "        n = len(A)\n",
        "        M = [fila + [1 if i==j else 0 for j in range(n)] for i, fila in enumerate(copy.deepcopy(A))]\n",
        "\n",
        "        for i in range(n):\n",
        "            # Pivoteo parcial\n",
        "            max_fila = max(range(i, n), key=lambda r: abs(M[r][i]))\n",
        "            if i != max_fila:\n",
        "                M[i], M[max_fila] = M[max_fila], M[i]\n",
        "\n",
        "            piv = M[i][i]\n",
        "            if abs(piv) < 1e-12:\n",
        "                raise ValueError(\"Matriz no invertible\")\n",
        "\n",
        "            # Normalizar fila\n",
        "            for j in range(2*n):\n",
        "                M[i][j] /= piv\n",
        "\n",
        "            # Eliminar en otras filas\n",
        "            for k in range(n):\n",
        "                if k != i:\n",
        "                    factor = M[k][i]\n",
        "                    for j in range(2*n):\n",
        "                        M[k][j] -= factor * M[i][j]\n",
        "\n",
        "        return [fila[n:] for fila in M]\n",
        "\n",
        "    # -------------------------\n",
        "    # Diagonalización\n",
        "    # -------------------------\n",
        "    def diagonalizar(self, matriz):\n",
        "        \"\"\"\n",
        "        Intenta diagonalizar A buscando autovalores (aprox) y autovectores con Gauss.\n",
        "        Solo práctico para matrices pequeñas (≤ 3x3).\n",
        "        \"\"\"\n",
        "        n = len(matriz)\n",
        "        # Buscar autovalores aproximando raíces de det(A - λI)=0\n",
        "        valores_propios = []\n",
        "        for x in [i/2 for i in range(-10, 11)]:\n",
        "            M = [[matriz[i][j] - (x if i==j else 0) for j in range(n)] for i in range(n)]\n",
        "            if abs(self.determinante(M)) < 1e-2:\n",
        "                valores_propios.append(round(x,2))\n",
        "        valores_propios = list(set(valores_propios))\n",
        "\n",
        "        # Buscar autovectores\n",
        "        vectores_propios = []\n",
        "        for lam in valores_propios:\n",
        "            A_l = [[matriz[i][j] - (lam if i==j else 0) for j in range(n)] for i in range(n)]\n",
        "            v = self.resolver_sistema_gauss(A_l)\n",
        "            vectores_propios.append(v)\n",
        "\n",
        "        # Formar P, D y P^-1\n",
        "        P = [[vectores_propios[j][i] for j in range(n)] for i in range(n)]\n",
        "        D = [[valores_propios[i] if i==j else 0 for j in range(n)] for i in range(n)]\n",
        "        P_inv = self.inversa(P)\n",
        "\n",
        "        return P, D, P_inv\n",
        "\n"
      ],
      "metadata": {
        "id": "AisFMu-qlXVC"
      },
      "execution_count": 82,
      "outputs": []
    },
    {
      "cell_type": "markdown",
      "source": [
        "#Clase con numpy"
      ],
      "metadata": {
        "id": "SQmQpsrDy9th"
      }
    },
    {
      "cell_type": "code",
      "source": [
        "import numpy as np\n",
        "import random\n",
        "\n",
        "class OperacionesMatrices:\n",
        "    def __init__(self, matriz=None):\n",
        "        self.matriz = np.array(matriz) if matriz is not None else None\n",
        "\n",
        "    def matriz_aleatoria_uniforme(self, n, minimo=-1, maximo=1):\n",
        "        #Genera una matriz n×n con valores uniformes en (minimo, maximo).\n",
        "        return np.random.uniform(minimo, maximo, (n, n))\n",
        "\n",
        "    def obtener_submatriz(self, matriz, fila_excluida, col_excluida):\n",
        "        #Obtiene una submatriz eliminando una fila y una columna.\n",
        "        matriz = np.array(matriz)\n",
        "        return np.delete(np.delete(matriz, fila_excluida, axis=0), col_excluida, axis=1)\n",
        "\n",
        "    def determinante(self, matriz):\n",
        "        #Calcula el determinante de una matriz n×n.\n",
        "        matriz = np.array(matriz)\n",
        "        return np.linalg.det(matriz)\n",
        "\n",
        "    def diagonalizar(self, matriz):\n",
        "\n",
        "        #Diagonaliza una matriz A encontrando sus autovalores y autovectores.\n",
        "\n",
        "        #Args:\n",
        "            #matriz: Matriz cuadrada a diagonalizar\n",
        "\n",
        "        #Returns:\n",
        "            #P: Matriz de autovectores (columnas)\n",
        "            #D: Matriz diagonal con autovalores\n",
        "            #P_inv: Inversa de P\n",
        "\n",
        "        A = np.array(matriz, dtype=float)\n",
        "\n",
        "        # Calcular autovalores y autovectores\n",
        "        autovalores, autovectores = np.linalg.eig(A)\n",
        "\n",
        "        # Matriz diagonal con los autovalores\n",
        "        D = np.diag(autovalores)\n",
        "\n",
        "        # Matriz de autovectores\n",
        "        P = autovectores\n",
        "\n",
        "        # Inversa de P\n",
        "        P_inv = np.linalg.inv(P)\n",
        "\n",
        "        return P, D, P_inv\n"
      ],
      "metadata": {
        "id": "jbl7eZi-uXP5"
      },
      "execution_count": 85,
      "outputs": []
    },
    {
      "cell_type": "code",
      "source": [
        "op = OperacionesMatrices()"
      ],
      "metadata": {
        "id": "826ISEP0uf34"
      },
      "execution_count": 86,
      "outputs": []
    },
    {
      "cell_type": "markdown",
      "source": [
        "#Puntos 3, 4 y 5"
      ],
      "metadata": {
        "id": "_8nmOzOYwu14"
      }
    },
    {
      "cell_type": "markdown",
      "source": [
        "## Punto 3"
      ],
      "metadata": {
        "id": "YfrItDA72NQI"
      }
    },
    {
      "cell_type": "code",
      "source": [
        "import time"
      ],
      "metadata": {
        "id": "7JoHmkRc4-gw"
      },
      "execution_count": 106,
      "outputs": []
    },
    {
      "cell_type": "code",
      "source": [
        "import time\n",
        "\n",
        "def contarTiempos(N, n):\n",
        "  tiempos_det = []\n",
        "  tiempos_diag = []\n",
        "\n",
        "  for K in range(N):\n",
        "    A = op.matriz_aleatoria_uniforme(n)\n",
        "\n",
        "    #Calculamos los tiempos de los determinantes\n",
        "    inicio = time.time()\n",
        "    K = op.determinante(A)\n",
        "    fin = time.time()\n",
        "    tiempos_det.append(fin - inicio)\n",
        "\n",
        "    #Calculamos los tiempos de las diagonalizaciones\n",
        "    inicio = time.time()\n",
        "    K = op.diagonalizar(A)\n",
        "    fin = time.time()\n",
        "    tiempos_diag.append(fin - inicio)\n",
        "\n",
        "  return tiempos_det, tiempos_diag"
      ],
      "metadata": {
        "id": "ORqLqtJW2mjR"
      },
      "execution_count": 136,
      "outputs": []
    },
    {
      "cell_type": "markdown",
      "source": [
        "## Punto 4"
      ],
      "metadata": {
        "id": "wDZDW6ho-PlX"
      }
    },
    {
      "cell_type": "code",
      "source": [
        "def promedios(N, n):\n",
        "    tiempos_det, tiempos_diag = contarTiempos(N, n)\n",
        "\n",
        "    # Promedios\n",
        "    m_n = np.mean(tiempos_det)\n",
        "    l_n = np.mean(tiempos_diag)\n",
        "\n",
        "    return m_n, l_n"
      ],
      "metadata": {
        "id": "oo-MQQkG-Ssn"
      },
      "execution_count": 128,
      "outputs": []
    },
    {
      "cell_type": "code",
      "source": [
        "m_n, l_n = promedios(20, 3)\n",
        "\n",
        "print(f\"Promedio determinante m({n}) = {m_n:.6f} segundos\")\n",
        "print(f\"Promedio diagonalización l({n}) = {l_n:.6f} segundos\")"
      ],
      "metadata": {
        "colab": {
          "base_uri": "https://localhost:8080/"
        },
        "id": "XLCY5_lH-Uo3",
        "outputId": "9c841398-be91-4777-fff9-4cdf25ca7a26"
      },
      "execution_count": 130,
      "outputs": [
        {
          "output_type": "stream",
          "name": "stdout",
          "text": [
            "Promedio determinante m(2) = 0.000024 segundos\n",
            "Promedio diagonalización l(2) = 0.000119 segundos\n"
          ]
        }
      ]
    },
    {
      "cell_type": "markdown",
      "source": [
        "## Punto 5"
      ],
      "metadata": {
        "id": "9R9cfkp2-g0_"
      }
    },
    {
      "cell_type": "code",
      "source": [
        "import matplotlib.pyplot as plt\n",
        "\n",
        "def calcular_promedios_varios(N, n_vals):\n",
        "    resultados_m = []\n",
        "    resultados_l = []\n",
        "\n",
        "    for n in n_vals:\n",
        "        m_n, l_n = promedios(N, n)\n",
        "        resultados_m.append(m_n)\n",
        "        resultados_l.append(l_n)\n",
        "\n",
        "    return resultados_m, resultados_l\n"
      ],
      "metadata": {
        "id": "cU0Rb-Qv-lm4"
      },
      "execution_count": 131,
      "outputs": []
    },
    {
      "cell_type": "code",
      "source": [
        "def graficar_resultados(n_vals, resultados_m, resultados_l):\n",
        "    plt.figure(figsize=(8, 6))\n",
        "\n",
        "    plt.plot(n_vals, resultados_m, marker=\"o\", label=\"m(n): tiempos determinante\")\n",
        "    plt.plot(n_vals, resultados_l, marker=\"s\", label=\"l(n): tiempos diagonalización\")\n",
        "\n",
        "    plt.xlabel(\"Tamaño de la matriz n\")\n",
        "    plt.ylabel(\"Tiempo promedio (segundos)\")\n",
        "    plt.title(\"Comparación de tiempos de determinante y diagonalización\")\n",
        "    plt.legend()\n",
        "    plt.grid(True)\n",
        "    plt.show()\n"
      ],
      "metadata": {
        "id": "1oRebhg8_HqX"
      },
      "execution_count": 132,
      "outputs": []
    },
    {
      "cell_type": "code",
      "source": [
        "op = OperacionesMatrices()\n",
        "\n",
        "# Número de repeticiones por cada n\n",
        "N = 100\n",
        "\n",
        "# Valores de n a probar\n",
        "n_vals = list(range(2, 25))\n",
        "\n",
        "# Calcular resultados\n",
        "resultados_m, resultados_l = calcular_promedios_varios(N, n_vals)\n",
        "\n",
        "# Graficar\n",
        "graficar_resultados(n_vals, resultados_m, resultados_l)\n"
      ],
      "metadata": {
        "colab": {
          "base_uri": "https://localhost:8080/",
          "height": 565
        },
        "id": "PKZpPQyL_MUv",
        "outputId": "07f50b9b-2105-4e64-b1e5-1df53a40258a"
      },
      "execution_count": 147,
      "outputs": [
        {
          "output_type": "display_data",
          "data": {
            "text/plain": [
              "<Figure size 800x600 with 1 Axes>"
            ],
            "image/png": "[encoded data removed]"
          },
          "metadata": {}
        }
      ]
    },
    {
      "cell_type": "code",
      "source": [
        "coef_det = np.polyfit(n_vals, resultados_m, 3)  # polinomio grado 3\n",
        "coef_diag = np.polyfit(n_vals, resultados_l, 3)\n",
        "\n",
        "print(\"Ajuste determinante (grado 3):\", coef_det)\n",
        "print(\"Ajuste diagonalización (grado 3):\", coef_diag)\n"
      ],
      "metadata": {
        "colab": {
          "base_uri": "https://localhost:8080/"
        },
        "id": "lF5Q1C43_kPf",
        "outputId": "e26bcc63-8f73-460f-e361-21ad563607af"
      },
      "execution_count": 148,
      "outputs": [
        {
          "output_type": "stream",
          "name": "stdout",
          "text": [
            "Ajuste determinante (grado 3): [ 5.25344840e-10  2.27069801e-08 -5.37578339e-07  1.92670806e-05]\n",
            "Ajuste diagonalización (grado 3): [8.55780619e-09 3.12286471e-07 2.35967439e-07 8.43985857e-05]\n"
          ]
        }
      ]
    },
    {
      "cell_type": "code",
      "source": [
        "p_det = np.poly1d(coef_det)\n",
        "p_diag = np.poly1d(coef_diag)\n",
        "\n",
        "# Valores ajustados\n",
        "ajuste_det = p_det(n_vals)\n",
        "ajuste_diag = p_diag(n_vals)\n",
        "\n",
        "# Graficar original + ajuste\n",
        "plt.figure(figsize=(8,6))\n",
        "plt.plot(n_vals, resultados_m, \"o\", label=\"m(n) experimental\")\n",
        "plt.plot(n_vals, ajuste_det, \"-\", label=\"Ajuste cúbico m(n)\")\n",
        "plt.plot(n_vals, resultados_l, \"s\", label=\"l(n) experimental\")\n",
        "plt.plot(n_vals, ajuste_diag, \"-\", label=\"Ajuste cúbico l(n)\")\n",
        "plt.xlabel(\"Tamaño n\")\n",
        "plt.ylabel(\"Tiempo (s)\")\n",
        "plt.legend()\n",
        "plt.grid(True)\n",
        "plt.show()\n"
      ],
      "metadata": {
        "colab": {
          "base_uri": "https://localhost:8080/",
          "height": 542
        },
        "id": "exATne3GAEon",
        "outputId": "e41882b1-628e-4c77-d259-4e07bcd1d0ff"
      },
      "execution_count": 149,
      "outputs": [
        {
          "output_type": "display_data",
          "data": {
            "text/plain": [
              "<Figure size 800x600 with 1 Axes>"
            ],
            "image/png": "[encoded data removed]"
          },
          "metadata": {}
        }
      ]
    }
  ]
}